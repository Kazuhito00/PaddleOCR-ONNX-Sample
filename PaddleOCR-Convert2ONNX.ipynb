{
  "nbformat": 4,
  "nbformat_minor": 0,
  "metadata": {
    "colab": {
      "provenance": []
    },
    "kernelspec": {
      "name": "python3",
      "display_name": "Python 3"
    },
    "language_info": {
      "name": "python"
    }
  },
  "cells": [
    {
      "cell_type": "markdown",
      "source": [
        "# パッケージインストール"
      ],
      "metadata": {
        "id": "sK-nGgr782tQ"
      }
    },
    {
      "cell_type": "code",
      "source": [
        "!pip install paddle2onnx"
      ],
      "metadata": {
        "id": "nsLfJD7cetGV"
      },
      "execution_count": null,
      "outputs": []
    },
    {
      "cell_type": "code",
      "source": [
        "!mkdir inference "
      ],
      "metadata": {
        "id": "8Eib46wmpmc3"
      },
      "execution_count": null,
      "outputs": []
    },
    {
      "cell_type": "code",
      "source": [
        "!mkdir model\n",
        "!mkdir model/det_model\n",
        "!mkdir model/rec_model\n",
        "!mkdir model/cls_model"
      ],
      "metadata": {
        "id": "EDS-TjnL7nYX"
      },
      "execution_count": null,
      "outputs": []
    },
    {
      "cell_type": "markdown",
      "source": [
        "# モデルダウンロード"
      ],
      "metadata": {
        "id": "Ank2Cpyn87Ju"
      }
    },
    {
      "cell_type": "markdown",
      "source": [
        "### テキスト検出モデル"
      ],
      "metadata": {
        "id": "EHYYA5Aa7U1w"
      }
    },
    {
      "cell_type": "code",
      "source": [
        "# ch_PP-OCRv3_det\n",
        "!wget -nc -P ./ https://paddleocr.bj.bcebos.com/PP-OCRv3/chinese/ch_PP-OCRv3_det_infer.tar\n",
        "!tar xf ch_PP-OCRv3_det_infer.tar -C inference \n",
        "!rm ch_PP-OCRv3_det_infer.tar\n",
        "\n",
        "# ch_PP-OCRv2_det\n",
        "!wget -nc -P ./ https://paddleocr.bj.bcebos.com/PP-OCRv2/chinese/ch_PP-OCRv2_det_infer.tar\n",
        "!tar xf ch_PP-OCRv2_det_infer.tar -C inference \n",
        "!rm ch_PP-OCRv2_det_infer.tar\n",
        "\n",
        "# ch_ppocr_mobile_v2.0_det\n",
        "!wget -nc -P ./ https://paddleocr.bj.bcebos.com/dygraph_v2.0/ch/ch_ppocr_mobile_v2.0_det_infer.tar\n",
        "!tar xf ch_ppocr_mobile_v2.0_det_infer.tar -C inference \n",
        "!rm ch_ppocr_mobile_v2.0_det_infer.tar\n",
        "\n",
        "# ch_ppocr_server_v2.0_det\n",
        "!wget -nc -P ./ https://paddleocr.bj.bcebos.com/dygraph_v2.0/ch/ch_ppocr_server_v2.0_det_infer.tar\n",
        "!tar xf ch_ppocr_server_v2.0_det_infer.tar -C inference \n",
        "!rm ch_ppocr_server_v2.0_det_infer.tar\n",
        "\n",
        "# en_PP-OCRv3_det\n",
        "!wget -nc -P ./ https://paddleocr.bj.bcebos.com/PP-OCRv3/english/en_PP-OCRv3_det_infer.tar\n",
        "!tar xf en_PP-OCRv3_det_infer.tar -C inference \n",
        "!rm en_PP-OCRv3_det_infer.tar\n",
        "\n",
        "# ml_PP-OCRv3_det\n",
        "!wget -nc -P ./ https://paddleocr.bj.bcebos.com/PP-OCRv3/multilingual/Multilingual_PP-OCRv3_det_infer.tar\n",
        "!tar xf Multilingual_PP-OCRv3_det_infer.tar -C inference \n",
        "!rm Multilingual_PP-OCRv3_det_infer.tar"
      ],
      "metadata": {
        "id": "d4QSdLyM6apW"
      },
      "execution_count": null,
      "outputs": []
    },
    {
      "cell_type": "markdown",
      "source": [
        "### テキスト認識モデル"
      ],
      "metadata": {
        "id": "I0z76R087XoC"
      }
    },
    {
      "cell_type": "code",
      "source": [
        "# ch_PP-OCRv3_rec\n",
        "!wget -nc -P ./ https://paddleocr.bj.bcebos.com/PP-OCRv3/chinese/ch_PP-OCRv3_rec_infer.tar\n",
        "!tar xf ch_PP-OCRv3_rec_infer.tar -C inference \n",
        "!rm ch_PP-OCRv3_rec_infer.tar\n",
        "\n",
        "# ch_PP-OCRv2_rec\n",
        "!wget -nc -P ./ https://paddleocr.bj.bcebos.com/PP-OCRv2/chinese/ch_PP-OCRv2_rec_infer.tar\n",
        "!tar xf ch_PP-OCRv2_rec_infer.tar -C inference \n",
        "!rm ch_PP-OCRv2_rec_infer.tar\n",
        "\n",
        "# ch_ppocr_mobile_v2.0_rec\n",
        "!wget -nc -P ./ https://paddleocr.bj.bcebos.com/dygraph_v2.0/ch/ch_ppocr_mobile_v2.0_rec_infer.tar\n",
        "!tar xf ch_ppocr_mobile_v2.0_rec_infer.tar -C inference \n",
        "!rm ch_ppocr_mobile_v2.0_rec_infer.tar\n",
        "\n",
        "# ch_ppocr_server_v2.0_rec\n",
        "!wget -nc -P ./ https://paddleocr.bj.bcebos.com/dygraph_v2.0/ch/ch_ppocr_server_v2.0_rec_infer.tar\n",
        "!tar xf ch_ppocr_server_v2.0_rec_infer.tar -C inference \n",
        "!rm ch_ppocr_server_v2.0_rec_infer.tar\n",
        "\n",
        "# en_PP-OCRv3_rec\n",
        "!wget -nc -P ./ https://paddleocr.bj.bcebos.com/PP-OCRv3/english/en_PP-OCRv3_rec_infer.tar\n",
        "!tar xf en_PP-OCRv3_rec_infer.tar -C inference \n",
        "!rm en_PP-OCRv3_rec_infer.tar\n",
        "\n",
        "# en_number_mobile_v2.0_rec\n",
        "!wget -nc -P ./ https://paddleocr.bj.bcebos.com/dygraph_v2.0/multilingual/en_number_mobile_v2.0_rec_infer.tar\n",
        "!tar xf en_number_mobile_v2.0_rec_infer.tar -C inference \n",
        "!rm en_number_mobile_v2.0_rec_infer.tar\n",
        "\n",
        "# korean_PP-OCRv3_rec\n",
        "!wget -nc -P ./ https://paddleocr.bj.bcebos.com/PP-OCRv3/multilingual/korean_PP-OCRv3_rec_infer.tar\n",
        "!tar xf korean_PP-OCRv3_rec_infer.tar -C inference \n",
        "!rm korean_PP-OCRv3_rec_infer.tar\n",
        "\n",
        "# japan_PP-OCRv3_rec\n",
        "!wget -nc -P ./ https://paddleocr.bj.bcebos.com/PP-OCRv3/multilingual/japan_PP-OCRv3_rec_infer.tar\n",
        "!tar xf japan_PP-OCRv3_rec_infer.tar -C inference \n",
        "!rm japan_PP-OCRv3_rec_infer.tar\n",
        "\n",
        "# chinese_cht_PP-OCRv3_rec\n",
        "!wget -nc -P ./ https://paddleocr.bj.bcebos.com/PP-OCRv3/multilingual/chinese_cht_PP-OCRv3_rec_infer.tar\n",
        "!tar xf chinese_cht_PP-OCRv3_rec_infer.tar -C inference \n",
        "!rm chinese_cht_PP-OCRv3_rec_infer.tar\n",
        "\n",
        "# te_PP-OCRv3_rec(テルグ語)\n",
        "!wget -nc -P ./ https://paddleocr.bj.bcebos.com/PP-OCRv3/multilingual/te_PP-OCRv3_rec_infer.tar\n",
        "!tar xf te_PP-OCRv3_rec_infer.tar -C inference \n",
        "!rm te_PP-OCRv3_rec_infer.tar\n",
        "\n",
        "# ka_PP-OCRv3_rec(カナダ語)\n",
        "!wget -nc -P ./ https://paddleocr.bj.bcebos.com/PP-OCRv3/multilingual/ka_PP-OCRv3_rec_infer.tar\n",
        "!tar xf ka_PP-OCRv3_rec_infer.tar -C inference \n",
        "!rm ka_PP-OCRv3_rec_infer.tar\n",
        "\n",
        "# ta_PP-OCRv3_rec(タミル語)\n",
        "!wget -nc -P ./ https://paddleocr.bj.bcebos.com/PP-OCRv3/multilingual/ta_PP-OCRv3_rec_infer.tar\n",
        "!tar xf ta_PP-OCRv3_rec_infer.tar -C inference \n",
        "!rm ta_PP-OCRv3_rec_infer.tar\n",
        "\n",
        "# latin_PP-OCRv3_rec(ラテン語)\n",
        "!wget -nc -P ./ https://paddleocr.bj.bcebos.com/PP-OCRv3/multilingual/latin_PP-OCRv3_rec_infer.tar\n",
        "!tar xf latin_PP-OCRv3_rec_infer.tar -C inference \n",
        "!rm latin_PP-OCRv3_rec_infer.tar\n",
        "\n",
        "# arabic_PP-OCRv3_rec(アラビア語)\n",
        "!wget -nc -P ./ https://paddleocr.bj.bcebos.com/PP-OCRv3/multilingual/arabic_PP-OCRv3_rec_infer.tar\n",
        "!tar xf arabic_PP-OCRv3_rec_infer.tar -C inference \n",
        "!rm arabic_PP-OCRv3_rec_infer.tar\n",
        "\n",
        "# cyrillic_PP-OCRv3_rec(キリル文字(ロシア語))\n",
        "!wget -nc -P ./ https://paddleocr.bj.bcebos.com/PP-OCRv3/multilingual/cyrillic_PP-OCRv3_rec_infer.tar\n",
        "!tar xf cyrillic_PP-OCRv3_rec_infer.tar -C inference \n",
        "!rm cyrillic_PP-OCRv3_rec_infer.tar\n",
        "\n",
        "# devanagari_PP-OCRv3_rec(デーヴァナーガリー文字(サンスクリット語))\n",
        "!wget -nc -P ./ https://paddleocr.bj.bcebos.com/PP-OCRv3/multilingual/devanagari_PP-OCRv3_rec_infer.tar\n",
        "!tar xf devanagari_PP-OCRv3_rec_infer.tar -C inference \n",
        "!rm devanagari_PP-OCRv3_rec_infer.tar"
      ],
      "metadata": {
        "id": "nhgmXSCY6ndH"
      },
      "execution_count": null,
      "outputs": []
    },
    {
      "cell_type": "markdown",
      "source": [
        "### テキスト角度分類モデル"
      ],
      "metadata": {
        "id": "He3g5Ifc7aF-"
      }
    },
    {
      "cell_type": "code",
      "source": [
        "# ch_ppocr_mobile_v2.0_cls\n",
        "!wget -nc -P ./ https://paddleocr.bj.bcebos.com/dygraph_v2.0/ch/ch_ppocr_mobile_v2.0_cls_infer.tar\n",
        "!tar xf ch_ppocr_mobile_v2.0_cls_infer.tar -C inference \n",
        "!rm ch_ppocr_mobile_v2.0_cls_infer.tar"
      ],
      "metadata": {
        "id": "MtWN53UK7aWH"
      },
      "execution_count": null,
      "outputs": []
    },
    {
      "cell_type": "markdown",
      "source": [
        "# ONNX変換"
      ],
      "metadata": {
        "id": "Ex3EOb_a9Czg"
      }
    },
    {
      "cell_type": "markdown",
      "source": [
        "### テキスト検出モデル"
      ],
      "metadata": {
        "id": "8Z2C4ZKu9Jxp"
      }
    },
    {
      "cell_type": "code",
      "source": [
        "# ch_PP-OCRv3_det\n",
        "!paddle2onnx --model_dir ./inference/ch_PP-OCRv3_det_infer \\\n",
        "    --model_filename inference.pdmodel \\\n",
        "    --params_filename inference.pdiparams \\\n",
        "    --save_file ./model/det_model/ch_PP-OCRv3_det_infer.onnx \\\n",
        "    --opset_version 11 \\\n",
        "    --input_shape_dict=\"{'x':[-1,3,-1,-1]}\" \\\n",
        "    --enable_onnx_checker True\n",
        "\n",
        "# ch_PP-OCRv2_det\n",
        "!paddle2onnx --model_dir ./inference/ch_PP-OCRv2_det_infer \\\n",
        "    --model_filename inference.pdmodel \\\n",
        "    --params_filename inference.pdiparams \\\n",
        "    --save_file ./model/det_model/ch_PP-OCRv2_det_infer.onnx \\\n",
        "    --opset_version 11 \\\n",
        "    --input_shape_dict=\"{'x':[-1,3,-1,-1]}\" \\\n",
        "    --enable_onnx_checker True\n",
        "    \n",
        "# ch_ppocr_mobile_v2.0_det\n",
        "!paddle2onnx --model_dir ./inference/ch_ppocr_mobile_v2.0_det_infer \\\n",
        "    --model_filename inference.pdmodel \\\n",
        "    --params_filename inference.pdiparams \\\n",
        "    --save_file ./model/det_model/ch_ppocr_mobile_v2.0_det_infer.onnx \\\n",
        "    --opset_version 11 \\\n",
        "    --input_shape_dict=\"{'x':[-1,3,-1,-1]}\" \\\n",
        "    --enable_onnx_checker True\n",
        "\n",
        "# ch_ppocr_server_v2.0_det\n",
        "!paddle2onnx --model_dir ./inference/ch_ppocr_server_v2.0_det_infer \\\n",
        "    --model_filename inference.pdmodel \\\n",
        "    --params_filename inference.pdiparams \\\n",
        "    --save_file ./model/det_model/ch_ppocr_server_v2.0_det_infer.onnx \\\n",
        "    --opset_version 11 \\\n",
        "    --input_shape_dict=\"{'x':[-1,3,-1,-1]}\" \\\n",
        "    --enable_onnx_checker True\n",
        "\n",
        "# en_PP-OCRv3_det\n",
        "!paddle2onnx --model_dir ./inference/en_PP-OCRv3_det_infer \\\n",
        "    --model_filename inference.pdmodel \\\n",
        "    --params_filename inference.pdiparams \\\n",
        "    --save_file ./model/det_model/en_PP-OCRv3_det_infer.onnx \\\n",
        "    --opset_version 11 \\\n",
        "    --input_shape_dict=\"{'x':[-1,3,-1,-1]}\" \\\n",
        "    --enable_onnx_checker True\n",
        "\n",
        "# ml_PP-OCRv3_det\n",
        "!paddle2onnx --model_dir ./inference/Multilingual_PP-OCRv3_det_infer \\\n",
        "    --model_filename inference.pdmodel \\\n",
        "    --params_filename inference.pdiparams \\\n",
        "    --save_file ./model/det_model/Multilingual_PP-OCRv3_det_infer.onnx \\\n",
        "    --opset_version 11 \\\n",
        "    --input_shape_dict=\"{'x':[-1,3,-1,-1]}\" \\\n",
        "    --enable_onnx_checker True"
      ],
      "metadata": {
        "id": "TB-LZV9L9MCt"
      },
      "execution_count": null,
      "outputs": []
    },
    {
      "cell_type": "markdown",
      "source": [
        "### テキスト認識モデル"
      ],
      "metadata": {
        "id": "75ShPZyk9JvR"
      }
    },
    {
      "cell_type": "code",
      "source": [
        "# ch_PP-OCRv3_rec\n",
        "!paddle2onnx --model_dir ./inference/ch_PP-OCRv3_rec_infer \\\n",
        "    --model_filename inference.pdmodel \\\n",
        "    --params_filename inference.pdiparams \\\n",
        "    --save_file ./model/rec_model/ch_PP-OCRv3_rec_infer.onnx \\\n",
        "    --opset_version 11 \\\n",
        "    --input_shape_dict=\"{'x':[-1,3,-1,-1]}\" \\\n",
        "    --enable_onnx_checker True\n",
        "\n",
        "# ch_PP-OCRv2_rec\n",
        "!paddle2onnx --model_dir ./inference/ch_PP-OCRv2_rec_infer \\\n",
        "    --model_filename inference.pdmodel \\\n",
        "    --params_filename inference.pdiparams \\\n",
        "    --save_file ./model/rec_model/ch_PP-OCRv2_rec_infer.onnx \\\n",
        "    --opset_version 11 \\\n",
        "    --input_shape_dict=\"{'x':[-1,3,-1,-1]}\" \\\n",
        "    --enable_onnx_checker True\n",
        "\n",
        "# ch_ppocr_mobile_v2.0_rec\n",
        "!paddle2onnx --model_dir ./inference/ch_ppocr_mobile_v2.0_rec_infer \\\n",
        "    --model_filename inference.pdmodel \\\n",
        "    --params_filename inference.pdiparams \\\n",
        "    --save_file ./model/rec_model/ch_ppocr_mobile_v2.0_rec_infer.onnx \\\n",
        "    --opset_version 11 \\\n",
        "    --input_shape_dict=\"{'x':[-1,3,-1,-1]}\" \\\n",
        "    --enable_onnx_checker True\n",
        "\n",
        "# ch_ppocr_server_v2.0_rec\n",
        "!paddle2onnx --model_dir ./inference/ch_ppocr_server_v2.0_rec_infer \\\n",
        "    --model_filename inference.pdmodel \\\n",
        "    --params_filename inference.pdiparams \\\n",
        "    --save_file ./model/rec_model/ch_ppocr_server_v2.0_rec_infer.onnx \\\n",
        "    --opset_version 11 \\\n",
        "    --input_shape_dict=\"{'x':[-1,3,-1,-1]}\" \\\n",
        "    --enable_onnx_checker True\n",
        "\n",
        "# en_PP-OCRv3_rec\n",
        "!paddle2onnx --model_dir ./inference/en_PP-OCRv3_rec_infer \\\n",
        "    --model_filename inference.pdmodel \\\n",
        "    --params_filename inference.pdiparams \\\n",
        "    --save_file ./model/rec_model/en_PP-OCRv3_rec_infer.onnx \\\n",
        "    --opset_version 11 \\\n",
        "    --input_shape_dict=\"{'x':[-1,3,-1,-1]}\" \\\n",
        "    --enable_onnx_checker True\n",
        "\n",
        "# en_number_mobile_v2.0_rec\n",
        "!paddle2onnx --model_dir ./inference/en_number_mobile_v2.0_rec_infer \\\n",
        "    --model_filename inference.pdmodel \\\n",
        "    --params_filename inference.pdiparams \\\n",
        "    --save_file ./model/rec_model/en_number_mobile_v2.0_rec_infer.onnx \\\n",
        "    --opset_version 11 \\\n",
        "    --input_shape_dict=\"{'x':[-1,3,-1,-1]}\" \\\n",
        "    --enable_onnx_checker True\n",
        "\n",
        "# korean_PP-OCRv3_rec\n",
        "!paddle2onnx --model_dir ./inference/korean_PP-OCRv3_rec_infer \\\n",
        "    --model_filename inference.pdmodel \\\n",
        "    --params_filename inference.pdiparams \\\n",
        "    --save_file ./model/rec_model/korean_PP-OCRv3_rec_infer.onnx \\\n",
        "    --opset_version 11 \\\n",
        "    --input_shape_dict=\"{'x':[-1,3,-1,-1]}\" \\\n",
        "    --enable_onnx_checker True\n",
        "\n",
        "# japan_PP-OCRv3_rec\n",
        "!paddle2onnx --model_dir ./inference/japan_PP-OCRv3_rec_infer \\\n",
        "    --model_filename inference.pdmodel \\\n",
        "    --params_filename inference.pdiparams \\\n",
        "    --save_file ./model/rec_model/japan_PP-OCRv3_rec_infer.onnx \\\n",
        "    --opset_version 11 \\\n",
        "    --input_shape_dict=\"{'x':[-1,3,-1,-1]}\" \\\n",
        "    --enable_onnx_checker True\n",
        "\n",
        "# chinese_cht_PP-OCRv3_rec\n",
        "!paddle2onnx --model_dir ./inference/chinese_cht_PP-OCRv3_rec_infer \\\n",
        "    --model_filename inference.pdmodel \\\n",
        "    --params_filename inference.pdiparams \\\n",
        "    --save_file ./model/rec_model/chinese_cht_PP-OCRv3_rec_infer.onnx \\\n",
        "    --opset_version 11 \\\n",
        "    --input_shape_dict=\"{'x':[-1,3,-1,-1]}\" \\\n",
        "    --enable_onnx_checker True\n",
        "\n",
        "# te_PP-OCRv3_rec(テルグ語)\n",
        "!paddle2onnx --model_dir ./inference/te_PP-OCRv3_rec_infer \\\n",
        "    --model_filename inference.pdmodel \\\n",
        "    --params_filename inference.pdiparams \\\n",
        "    --save_file ./model/rec_model/te_PP-OCRv3_rec_infer.onnx \\\n",
        "    --opset_version 11 \\\n",
        "    --input_shape_dict=\"{'x':[-1,3,-1,-1]}\" \\\n",
        "    --enable_onnx_checker True\n",
        "\n",
        "# ka_PP-OCRv3_rec(カナダ語)\n",
        "!paddle2onnx --model_dir ./inference/ka_PP-OCRv3_rec_infer \\\n",
        "    --model_filename inference.pdmodel \\\n",
        "    --params_filename inference.pdiparams \\\n",
        "    --save_file ./model/rec_model/ka_PP-OCRv3_rec_infer.onnx \\\n",
        "    --opset_version 11 \\\n",
        "    --input_shape_dict=\"{'x':[-1,3,-1,-1]}\" \\\n",
        "    --enable_onnx_checker True\n",
        "\n",
        "# ta_PP-OCRv3_rec(タミル語)\n",
        "!paddle2onnx --model_dir ./inference/ta_PP-OCRv3_rec_infer \\\n",
        "    --model_filename inference.pdmodel \\\n",
        "    --params_filename inference.pdiparams \\\n",
        "    --save_file ./model/rec_model/ta_PP-OCRv3_rec_infer.onnx \\\n",
        "    --opset_version 11 \\\n",
        "    --input_shape_dict=\"{'x':[-1,3,-1,-1]}\" \\\n",
        "    --enable_onnx_checker True\n",
        "\n",
        "# latin_PP-OCRv3_rec(ラテン語)\n",
        "!paddle2onnx --model_dir ./inference/latin_PP-OCRv3_rec_infer \\\n",
        "    --model_filename inference.pdmodel \\\n",
        "    --params_filename inference.pdiparams \\\n",
        "    --save_file ./model/rec_model/latin_PP-OCRv3_rec_infer.onnx \\\n",
        "    --opset_version 11 \\\n",
        "    --input_shape_dict=\"{'x':[-1,3,-1,-1]}\" \\\n",
        "    --enable_onnx_checker True\n",
        "\n",
        "# arabic_PP-OCRv3_rec(アラビア語)\n",
        "!paddle2onnx --model_dir ./inference/arabic_PP-OCRv3_rec_infer \\\n",
        "    --model_filename inference.pdmodel \\\n",
        "    --params_filename inference.pdiparams \\\n",
        "    --save_file ./model/rec_model/arabic_PP-OCRv3_rec_infer.onnx \\\n",
        "    --opset_version 11 \\\n",
        "    --input_shape_dict=\"{'x':[-1,3,-1,-1]}\" \\\n",
        "    --enable_onnx_checker True\n",
        "\n",
        "# cyrillic_PP-OCRv3_rec(キリル文字(ロシア語))\n",
        "!paddle2onnx --model_dir ./inference/cyrillic_PP-OCRv3_rec_infer \\\n",
        "    --model_filename inference.pdmodel \\\n",
        "    --params_filename inference.pdiparams \\\n",
        "    --save_file ./model/rec_model/cyrillic_PP-OCRv3_rec_infer.onnx \\\n",
        "    --opset_version 11 \\\n",
        "    --input_shape_dict=\"{'x':[-1,3,-1,-1]}\" \\\n",
        "    --enable_onnx_checker True\n",
        "\n",
        "# devanagari_PP-OCRv3_rec(デーヴァナーガリー文字(サンスクリット語))\n",
        "!paddle2onnx --model_dir ./inference/devanagari_PP-OCRv3_rec_infer \\\n",
        "    --model_filename inference.pdmodel \\\n",
        "    --params_filename inference.pdiparams \\\n",
        "    --save_file ./model/rec_model/devanagari_PP-OCRv3_rec_infer.onnx \\\n",
        "    --opset_version 11 \\\n",
        "    --input_shape_dict=\"{'x':[-1,3,-1,-1]}\" \\\n",
        "    --enable_onnx_checker True"
      ],
      "metadata": {
        "id": "O-PlfvTc9N8Y"
      },
      "execution_count": null,
      "outputs": []
    },
    {
      "cell_type": "markdown",
      "source": [
        "### テキスト角度分類モデル"
      ],
      "metadata": {
        "id": "pTZIxyfF9Jp7"
      }
    },
    {
      "cell_type": "code",
      "source": [
        "# ch_ppocr_mobile_v2.0_cls\n",
        "!paddle2onnx --model_dir ./inference/ch_ppocr_mobile_v2.0_cls_infer \\\n",
        "    --model_filename inference.pdmodel \\\n",
        "    --params_filename inference.pdiparams \\\n",
        "    --save_file ./model/cls_model/ch_ppocr_mobile_v2.0_cls_infer.onnx \\\n",
        "    --opset_version 11 \\\n",
        "    --input_shape_dict=\"{'x':[-1,3,-1,-1]}\" \\\n",
        "    --enable_onnx_checker True"
      ],
      "metadata": {
        "id": "xf2cqnlJ76Io"
      },
      "execution_count": null,
      "outputs": []
    },
    {
      "cell_type": "markdown",
      "source": [
        "# Zip圧縮"
      ],
      "metadata": {
        "id": "QkL2Vk7EAo8I"
      }
    },
    {
      "cell_type": "code",
      "source": [
        "!zip -r model model"
      ],
      "metadata": {
        "id": "pY_NVxKTrCb7"
      },
      "execution_count": null,
      "outputs": []
    }
  ]
}